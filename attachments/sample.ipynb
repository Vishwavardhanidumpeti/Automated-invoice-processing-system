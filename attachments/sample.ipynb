{
 "cells": [
  {
   "cell_type": "code",
   "execution_count": 4,
   "id": "d17a7e0a",
   "metadata": {},
   "outputs": [],
   "source": [
    "import os\n",
    "os.makedirs(\"testdir\", exist_ok=True)"
   ]
  },
  {
   "cell_type": "code",
   "execution_count": 8,
   "id": "dc3ac172",
   "metadata": {},
   "outputs": [
    {
     "data": {
      "text/plain": [
       "'testdir/extracted_data.csv'"
      ]
     },
     "execution_count": 8,
     "metadata": {},
     "output_type": "execute_result"
    }
   ],
   "source": [
    "import shutil\n",
    "shutil.copy(\"extracted_data.csv\",\"testdir/extracted_data.csv\")"
   ]
  },
  {
   "cell_type": "code",
   "execution_count": 10,
   "id": "28f2b52b",
   "metadata": {},
   "outputs": [
    {
     "name": "stdout",
     "output_type": "stream",
     "text": [
      "details.txt\n",
      "extracted_data.csv\n"
     ]
    }
   ],
   "source": [
    "for i in os.listdir(\"testdir\"):\n",
    "   print(i)"
   ]
  },
  {
   "cell_type": "code",
   "execution_count": 12,
   "id": "2eb6ffe9",
   "metadata": {},
   "outputs": [
    {
     "data": {
      "text/plain": [
       "['.dist',\n",
       " 'attachments',\n",
       " 'build',\n",
       " 'details.txt',\n",
       " 'dist',\n",
       " 'extracted_data.csv',\n",
       " 'invoice_app.log',\n",
       " 'sample.ipynb',\n",
       " 'session-3',\n",
       " 'test',\n",
       " 'test.py',\n",
       " 'testdir',\n",
       " 'ui.py',\n",
       " 'ui.spec']"
      ]
     },
     "execution_count": 12,
     "metadata": {},
     "output_type": "execute_result"
    }
   ],
   "source": [
    "os.listdir(\".\")"
   ]
  },
  {
   "cell_type": "code",
   "execution_count": 13,
   "id": "6f8eb239",
   "metadata": {},
   "outputs": [
    {
     "data": {
      "text/plain": [
       "'c:\\\\Users\\\\ADMIN\\\\OneDrive\\\\Desktop\\\\zaalima'"
      ]
     },
     "execution_count": 13,
     "metadata": {},
     "output_type": "execute_result"
    }
   ],
   "source": [
    "os.getcwd()"
   ]
  }
 ],
 "metadata": {
  "kernelspec": {
   "display_name": "test",
   "language": "python",
   "name": "python3"
  },
  "language_info": {
   "codemirror_mode": {
    "name": "ipython",
    "version": 3
   },
   "file_extension": ".py",
   "mimetype": "text/x-python",
   "name": "python",
   "nbconvert_exporter": "python",
   "pygments_lexer": "ipython3",
   "version": "3.13.4"
  }
 },
 "nbformat": 4,
 "nbformat_minor": 5
}
